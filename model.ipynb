{
 "cells": [
  {
   "cell_type": "code",
   "execution_count": 24,
   "metadata": {},
   "outputs": [],
   "source": [
    "import pandas as pd\n",
    "import numpy as np\n",
    "import seaborn as sns\n",
    "import matplotlib.pyplot as plt\n",
    "\n",
    "sns.set_style('whitegrid')"
   ]
  },
  {
   "cell_type": "code",
   "execution_count": 25,
   "metadata": {},
   "outputs": [],
   "source": [
    "df = pd.read_csv('train.csv')"
   ]
  },
  {
   "cell_type": "code",
   "execution_count": 26,
   "metadata": {},
   "outputs": [],
   "source": [
    "df['word_count'] = df['comment_text'].apply(lambda x: len(str(x).split(\" \")))"
   ]
  },
  {
   "cell_type": "code",
   "execution_count": 27,
   "metadata": {},
   "outputs": [],
   "source": [
    "df['char_count'] = df['comment_text'].str.len() ## this also includes spaces\n"
   ]
  },
  {
   "cell_type": "code",
   "execution_count": 28,
   "metadata": {},
   "outputs": [],
   "source": [
    "def avg_word(sentence):\n",
    "    words = sentence.split()\n",
    "    return (sum(len(word) for word in words)/len(words))\n",
    "\n",
    "df['avg_word'] = df['comment_text'].apply(lambda x: avg_word(x))"
   ]
  },
  {
   "cell_type": "code",
   "execution_count": 29,
   "metadata": {},
   "outputs": [],
   "source": [
    "from nltk.corpus import stopwords\n",
    "import nltk\n",
    "\n",
    "\n",
    "stop = stopwords.words('english')\n",
    "\n",
    "df['stopwords'] = df['comment_text'].apply(lambda x: len([x for x in x.split() if x in stop]))"
   ]
  },
  {
   "cell_type": "code",
   "execution_count": 30,
   "metadata": {},
   "outputs": [],
   "source": [
    "df['hastags'] = df['comment_text'].apply(lambda x: len([x for x in x.split() if x.startswith('#')]))"
   ]
  },
  {
   "cell_type": "code",
   "execution_count": 31,
   "metadata": {},
   "outputs": [],
   "source": [
    "df['numerics'] = df['comment_text'].apply(lambda x: len([x for x in x.split() if x.isdigit()]))\n",
    "df['upper'] = df['comment_text'].apply(lambda x: len([x for x in x.split() if x.isupper()]))\n"
   ]
  },
  {
   "cell_type": "code",
   "execution_count": 32,
   "metadata": {},
   "outputs": [],
   "source": [
    "df['comment_text'] = df['comment_text'].apply(lambda x: \" \".join(x.lower() for x in x.split()))\n",
    "df['comment_text'] = df['comment_text'].str.replace('[^\\w\\s]','')"
   ]
  },
  {
   "cell_type": "code",
   "execution_count": 33,
   "metadata": {},
   "outputs": [],
   "source": [
    "df['comment_text'] = df['comment_text'].apply(lambda x: \" \".join(x for x in x.split() if x not in stop))"
   ]
  },
  {
   "cell_type": "code",
   "execution_count": 34,
   "metadata": {},
   "outputs": [],
   "source": [
    "freq = pd.Series(' '.join(df['comment_text']).split()).value_counts()[:30]"
   ]
  },
  {
   "cell_type": "code",
   "execution_count": 35,
   "metadata": {},
   "outputs": [],
   "source": [
    "freq = list(freq.index)\n",
    "df['comment_text'] = df['comment_text'].apply(lambda x: \" \".join(x for x in x.split() if x not in freq))"
   ]
  },
  {
   "cell_type": "code",
   "execution_count": 36,
   "metadata": {},
   "outputs": [],
   "source": [
    "freq = pd.Series(' '.join(df['comment_text']).split()).value_counts()[-10:]\n",
    "df['comment_text'] = df['comment_text'].apply(lambda x: \" \".join(x for x in x.split() if x not in list(freq.index)))"
   ]
  },
  {
   "cell_type": "code",
   "execution_count": 37,
   "metadata": {},
   "outputs": [
    {
     "data": {
      "text/html": [
       "<div>\n",
       "<style scoped>\n",
       "    .dataframe tbody tr th:only-of-type {\n",
       "        vertical-align: middle;\n",
       "    }\n",
       "\n",
       "    .dataframe tbody tr th {\n",
       "        vertical-align: top;\n",
       "    }\n",
       "\n",
       "    .dataframe thead th {\n",
       "        text-align: right;\n",
       "    }\n",
       "</style>\n",
       "<table border=\"1\" class=\"dataframe\">\n",
       "  <thead>\n",
       "    <tr style=\"text-align: right;\">\n",
       "      <th></th>\n",
       "      <th>id</th>\n",
       "      <th>comment_text</th>\n",
       "      <th>toxic</th>\n",
       "      <th>severe_toxic</th>\n",
       "      <th>obscene</th>\n",
       "      <th>threat</th>\n",
       "      <th>insult</th>\n",
       "      <th>identity_hate</th>\n",
       "      <th>word_count</th>\n",
       "      <th>char_count</th>\n",
       "      <th>avg_word</th>\n",
       "      <th>stopwords</th>\n",
       "      <th>hastags</th>\n",
       "      <th>numerics</th>\n",
       "      <th>upper</th>\n",
       "    </tr>\n",
       "  </thead>\n",
       "  <tbody>\n",
       "    <tr>\n",
       "      <th>0</th>\n",
       "      <td>0000997932d777bf</td>\n",
       "      <td>explanation edits made username hardcore metal...</td>\n",
       "      <td>0</td>\n",
       "      <td>0</td>\n",
       "      <td>0</td>\n",
       "      <td>0</td>\n",
       "      <td>0</td>\n",
       "      <td>0</td>\n",
       "      <td>42</td>\n",
       "      <td>264</td>\n",
       "      <td>5.162791</td>\n",
       "      <td>14</td>\n",
       "      <td>0</td>\n",
       "      <td>0</td>\n",
       "      <td>2</td>\n",
       "    </tr>\n",
       "    <tr>\n",
       "      <th>1</th>\n",
       "      <td>000103f0d9cfb60f</td>\n",
       "      <td>daww matches background colour seemingly stuck...</td>\n",
       "      <td>0</td>\n",
       "      <td>0</td>\n",
       "      <td>0</td>\n",
       "      <td>0</td>\n",
       "      <td>0</td>\n",
       "      <td>0</td>\n",
       "      <td>18</td>\n",
       "      <td>112</td>\n",
       "      <td>5.588235</td>\n",
       "      <td>1</td>\n",
       "      <td>0</td>\n",
       "      <td>1</td>\n",
       "      <td>1</td>\n",
       "    </tr>\n",
       "    <tr>\n",
       "      <th>2</th>\n",
       "      <td>000113f07ec002fd</td>\n",
       "      <td>hey man really trying war guy constantly remov...</td>\n",
       "      <td>0</td>\n",
       "      <td>0</td>\n",
       "      <td>0</td>\n",
       "      <td>0</td>\n",
       "      <td>0</td>\n",
       "      <td>0</td>\n",
       "      <td>42</td>\n",
       "      <td>233</td>\n",
       "      <td>4.571429</td>\n",
       "      <td>18</td>\n",
       "      <td>0</td>\n",
       "      <td>0</td>\n",
       "      <td>0</td>\n",
       "    </tr>\n",
       "    <tr>\n",
       "      <th>3</th>\n",
       "      <td>0001b41b1c6bb37e</td>\n",
       "      <td>cant real suggestions improvement wondered sec...</td>\n",
       "      <td>0</td>\n",
       "      <td>0</td>\n",
       "      <td>0</td>\n",
       "      <td>0</td>\n",
       "      <td>0</td>\n",
       "      <td>0</td>\n",
       "      <td>112</td>\n",
       "      <td>622</td>\n",
       "      <td>4.486726</td>\n",
       "      <td>49</td>\n",
       "      <td>0</td>\n",
       "      <td>0</td>\n",
       "      <td>5</td>\n",
       "    </tr>\n",
       "    <tr>\n",
       "      <th>4</th>\n",
       "      <td>0001d958c54c6e35</td>\n",
       "      <td>sir hero chance remember thats</td>\n",
       "      <td>0</td>\n",
       "      <td>0</td>\n",
       "      <td>0</td>\n",
       "      <td>0</td>\n",
       "      <td>0</td>\n",
       "      <td>0</td>\n",
       "      <td>13</td>\n",
       "      <td>67</td>\n",
       "      <td>4.230769</td>\n",
       "      <td>4</td>\n",
       "      <td>0</td>\n",
       "      <td>0</td>\n",
       "      <td>0</td>\n",
       "    </tr>\n",
       "  </tbody>\n",
       "</table>\n",
       "</div>"
      ],
      "text/plain": [
       "                 id                                       comment_text  toxic  \\\n",
       "0  0000997932d777bf  explanation edits made username hardcore metal...      0   \n",
       "1  000103f0d9cfb60f  daww matches background colour seemingly stuck...      0   \n",
       "2  000113f07ec002fd  hey man really trying war guy constantly remov...      0   \n",
       "3  0001b41b1c6bb37e  cant real suggestions improvement wondered sec...      0   \n",
       "4  0001d958c54c6e35                     sir hero chance remember thats      0   \n",
       "\n",
       "   severe_toxic  obscene  threat  insult  identity_hate  word_count  \\\n",
       "0             0        0       0       0              0          42   \n",
       "1             0        0       0       0              0          18   \n",
       "2             0        0       0       0              0          42   \n",
       "3             0        0       0       0              0         112   \n",
       "4             0        0       0       0              0          13   \n",
       "\n",
       "   char_count  avg_word  stopwords  hastags  numerics  upper  \n",
       "0         264  5.162791         14        0         0      2  \n",
       "1         112  5.588235          1        0         1      1  \n",
       "2         233  4.571429         18        0         0      0  \n",
       "3         622  4.486726         49        0         0      5  \n",
       "4          67  4.230769          4        0         0      0  "
      ]
     },
     "execution_count": 37,
     "metadata": {},
     "output_type": "execute_result"
    }
   ],
   "source": [
    "df.head(5)"
   ]
  },
  {
   "cell_type": "code",
   "execution_count": 38,
   "metadata": {},
   "outputs": [],
   "source": [
    "from sklearn.model_selection import train_test_split\n",
    "\n",
    "X_train,X_test,y_train,y_test = train_test_split(df.drop(['toxic'],1),df['toxic'])"
   ]
  },
  {
   "cell_type": "code",
   "execution_count": 49,
   "metadata": {},
   "outputs": [
    {
     "name": "stdout",
     "output_type": "stream",
     "text": [
      "(119678, 206206) (39893, 206206)\n"
     ]
    }
   ],
   "source": [
    "from sklearn.feature_extraction.text import TfidfTransformer\n",
    "from sklearn.feature_extraction.text import TfidfVectorizer\n",
    "vectorizer = TfidfVectorizer()\n",
    "train_vectors = vectorizer.fit_transform(X_train['comment_text'])\n",
    "test_vectors = vectorizer.transform(X_test['comment_text'])\n",
    "print(train_vectors.shape, test_vectors.shape)"
   ]
  },
  {
   "cell_type": "code",
   "execution_count": 62,
   "metadata": {},
   "outputs": [
    {
     "name": "stdout",
     "output_type": "stream",
     "text": [
      "[1]\tvalid_0's auc: 0.670372\n",
      "[2]\tvalid_0's auc: 0.725763\n",
      "[3]\tvalid_0's auc: 0.751714\n",
      "[4]\tvalid_0's auc: 0.767253\n",
      "[5]\tvalid_0's auc: 0.786135\n",
      "[6]\tvalid_0's auc: 0.802079\n",
      "[7]\tvalid_0's auc: 0.808453\n",
      "[8]\tvalid_0's auc: 0.824542\n",
      "[9]\tvalid_0's auc: 0.836331\n",
      "[10]\tvalid_0's auc: 0.847882\n",
      "[11]\tvalid_0's auc: 0.856574\n",
      "[12]\tvalid_0's auc: 0.862096\n",
      "[13]\tvalid_0's auc: 0.865152\n",
      "[14]\tvalid_0's auc: 0.869469\n",
      "[15]\tvalid_0's auc: 0.873858\n",
      "[16]\tvalid_0's auc: 0.875557\n",
      "[17]\tvalid_0's auc: 0.882451\n",
      "[18]\tvalid_0's auc: 0.888541\n",
      "[19]\tvalid_0's auc: 0.891319\n",
      "[20]\tvalid_0's auc: 0.892301\n",
      "[21]\tvalid_0's auc: 0.893939\n",
      "[22]\tvalid_0's auc: 0.896154\n",
      "[23]\tvalid_0's auc: 0.897615\n",
      "[24]\tvalid_0's auc: 0.898591\n",
      "[25]\tvalid_0's auc: 0.899261\n",
      "[26]\tvalid_0's auc: 0.902346\n",
      "[27]\tvalid_0's auc: 0.903844\n",
      "[28]\tvalid_0's auc: 0.906174\n",
      "[29]\tvalid_0's auc: 0.907606\n",
      "[30]\tvalid_0's auc: 0.909507\n",
      "[31]\tvalid_0's auc: 0.912278\n",
      "[32]\tvalid_0's auc: 0.913171\n",
      "[33]\tvalid_0's auc: 0.914514\n",
      "[34]\tvalid_0's auc: 0.916198\n",
      "[35]\tvalid_0's auc: 0.9175\n",
      "[36]\tvalid_0's auc: 0.92031\n",
      "[37]\tvalid_0's auc: 0.921054\n",
      "[38]\tvalid_0's auc: 0.922315\n",
      "[39]\tvalid_0's auc: 0.922877\n",
      "[40]\tvalid_0's auc: 0.92432\n",
      "[41]\tvalid_0's auc: 0.925509\n",
      "[42]\tvalid_0's auc: 0.925957\n",
      "[43]\tvalid_0's auc: 0.926242\n",
      "[44]\tvalid_0's auc: 0.927004\n",
      "[45]\tvalid_0's auc: 0.927735\n",
      "[46]\tvalid_0's auc: 0.92823\n",
      "[47]\tvalid_0's auc: 0.928219\n",
      "[48]\tvalid_0's auc: 0.928095\n",
      "[49]\tvalid_0's auc: 0.929044\n",
      "[50]\tvalid_0's auc: 0.929848\n",
      "[51]\tvalid_0's auc: 0.930542\n",
      "[52]\tvalid_0's auc: 0.93116\n",
      "[53]\tvalid_0's auc: 0.931138\n",
      "[54]\tvalid_0's auc: 0.931739\n",
      "[55]\tvalid_0's auc: 0.932181\n",
      "[56]\tvalid_0's auc: 0.932861\n",
      "[57]\tvalid_0's auc: 0.933686\n",
      "[58]\tvalid_0's auc: 0.934336\n",
      "[59]\tvalid_0's auc: 0.934647\n",
      "[60]\tvalid_0's auc: 0.934689\n",
      "[61]\tvalid_0's auc: 0.935628\n",
      "[62]\tvalid_0's auc: 0.935825\n",
      "[63]\tvalid_0's auc: 0.936324\n",
      "[64]\tvalid_0's auc: 0.936766\n",
      "[65]\tvalid_0's auc: 0.93713\n",
      "[66]\tvalid_0's auc: 0.937198\n",
      "[67]\tvalid_0's auc: 0.937752\n",
      "[68]\tvalid_0's auc: 0.93792\n",
      "[69]\tvalid_0's auc: 0.938498\n",
      "[70]\tvalid_0's auc: 0.938633\n",
      "[71]\tvalid_0's auc: 0.938898\n",
      "[72]\tvalid_0's auc: 0.939014\n",
      "[73]\tvalid_0's auc: 0.93968\n",
      "[74]\tvalid_0's auc: 0.939688\n",
      "[75]\tvalid_0's auc: 0.940028\n",
      "[76]\tvalid_0's auc: 0.939872\n",
      "[77]\tvalid_0's auc: 0.94029\n",
      "[78]\tvalid_0's auc: 0.940447\n",
      "[79]\tvalid_0's auc: 0.940714\n",
      "[80]\tvalid_0's auc: 0.940969\n",
      "[81]\tvalid_0's auc: 0.941308\n",
      "[82]\tvalid_0's auc: 0.941583\n",
      "[83]\tvalid_0's auc: 0.941711\n",
      "[84]\tvalid_0's auc: 0.941953\n",
      "[85]\tvalid_0's auc: 0.941795\n",
      "[86]\tvalid_0's auc: 0.941851\n",
      "[87]\tvalid_0's auc: 0.94156\n",
      "[88]\tvalid_0's auc: 0.941887\n",
      "[89]\tvalid_0's auc: 0.94221\n",
      "[90]\tvalid_0's auc: 0.942426\n",
      "[91]\tvalid_0's auc: 0.942455\n",
      "[92]\tvalid_0's auc: 0.942693\n",
      "[93]\tvalid_0's auc: 0.942706\n",
      "[94]\tvalid_0's auc: 0.94269\n",
      "[95]\tvalid_0's auc: 0.942999\n",
      "[96]\tvalid_0's auc: 0.943365\n",
      "[97]\tvalid_0's auc: 0.943283\n",
      "[98]\tvalid_0's auc: 0.943784\n",
      "[99]\tvalid_0's auc: 0.943875\n",
      "[100]\tvalid_0's auc: 0.944175\n"
     ]
    }
   ],
   "source": [
    "dtrain = lgb.Dataset(train_vectors,y_train)\n",
    "dtest = lgb.Dataset(test_vectors,y_test)\n",
    "\n",
    "param_lgb = {\n",
    "    'max_depth': 5,\n",
    "    'learning_rate': 0.33,\n",
    "    'max_bin': 1000,\n",
    "    'num_leaves' : 100,\n",
    "    'objective': 'binary',\n",
    "    'metric': 'auc',\n",
    "    'num_iter': 1000\n",
    "    \n",
    "}\n",
    "\n",
    "\n",
    "lgb_model = lgb.train(param_lgb,dtrain,valid_sets=dtest)"
   ]
  },
  {
   "cell_type": "code",
   "execution_count": 64,
   "metadata": {},
   "outputs": [
    {
     "name": "stdout",
     "output_type": "stream",
     "text": [
      "[1]\tvalid_0's auc: 0.812351\n",
      "[2]\tvalid_0's auc: 0.842407\n",
      "[3]\tvalid_0's auc: 0.857714\n",
      "[4]\tvalid_0's auc: 0.861177\n",
      "[5]\tvalid_0's auc: 0.86424\n",
      "[6]\tvalid_0's auc: 0.864351\n",
      "[7]\tvalid_0's auc: 0.86574\n",
      "[8]\tvalid_0's auc: 0.865757\n",
      "[9]\tvalid_0's auc: 0.866805\n",
      "[10]\tvalid_0's auc: 0.867401\n",
      "[11]\tvalid_0's auc: 0.868065\n",
      "[12]\tvalid_0's auc: 0.868169\n",
      "[13]\tvalid_0's auc: 0.868145\n",
      "[14]\tvalid_0's auc: 0.868682\n",
      "[15]\tvalid_0's auc: 0.868597\n",
      "[16]\tvalid_0's auc: 0.868544\n",
      "[17]\tvalid_0's auc: 0.868422\n",
      "[18]\tvalid_0's auc: 0.868388\n",
      "[19]\tvalid_0's auc: 0.868177\n",
      "[20]\tvalid_0's auc: 0.868292\n",
      "[21]\tvalid_0's auc: 0.868499\n",
      "[22]\tvalid_0's auc: 0.868216\n",
      "[23]\tvalid_0's auc: 0.867978\n",
      "[24]\tvalid_0's auc: 0.868106\n",
      "[25]\tvalid_0's auc: 0.868033\n",
      "[26]\tvalid_0's auc: 0.868169\n",
      "[27]\tvalid_0's auc: 0.868138\n",
      "[28]\tvalid_0's auc: 0.868418\n",
      "[29]\tvalid_0's auc: 0.868568\n",
      "[30]\tvalid_0's auc: 0.868503\n",
      "[31]\tvalid_0's auc: 0.86847\n",
      "[32]\tvalid_0's auc: 0.868316\n",
      "[33]\tvalid_0's auc: 0.86839\n",
      "[34]\tvalid_0's auc: 0.868318\n",
      "[35]\tvalid_0's auc: 0.868366\n",
      "[36]\tvalid_0's auc: 0.868197\n",
      "[37]\tvalid_0's auc: 0.867866\n",
      "[38]\tvalid_0's auc: 0.867813\n",
      "[39]\tvalid_0's auc: 0.867503\n",
      "[40]\tvalid_0's auc: 0.867469\n",
      "[41]\tvalid_0's auc: 0.867465\n",
      "[42]\tvalid_0's auc: 0.867429\n",
      "[43]\tvalid_0's auc: 0.867473\n",
      "[44]\tvalid_0's auc: 0.867457\n",
      "[45]\tvalid_0's auc: 0.867154\n",
      "[46]\tvalid_0's auc: 0.867345\n",
      "[47]\tvalid_0's auc: 0.867194\n",
      "[48]\tvalid_0's auc: 0.867353\n",
      "[49]\tvalid_0's auc: 0.867471\n",
      "[50]\tvalid_0's auc: 0.86736\n",
      "[51]\tvalid_0's auc: 0.867205\n",
      "[52]\tvalid_0's auc: 0.867159\n",
      "[53]\tvalid_0's auc: 0.867146\n",
      "[54]\tvalid_0's auc: 0.867019\n",
      "[55]\tvalid_0's auc: 0.867013\n",
      "[56]\tvalid_0's auc: 0.866948\n",
      "[57]\tvalid_0's auc: 0.867153\n",
      "[58]\tvalid_0's auc: 0.866997\n",
      "[59]\tvalid_0's auc: 0.86706\n",
      "[60]\tvalid_0's auc: 0.867033\n",
      "[61]\tvalid_0's auc: 0.86704\n",
      "[62]\tvalid_0's auc: 0.867145\n",
      "[63]\tvalid_0's auc: 0.867075\n",
      "[64]\tvalid_0's auc: 0.866882\n",
      "[65]\tvalid_0's auc: 0.866867\n",
      "[66]\tvalid_0's auc: 0.866778\n",
      "[67]\tvalid_0's auc: 0.866685\n",
      "[68]\tvalid_0's auc: 0.866546\n",
      "[69]\tvalid_0's auc: 0.866227\n",
      "[70]\tvalid_0's auc: 0.866185\n",
      "[71]\tvalid_0's auc: 0.866204\n",
      "[72]\tvalid_0's auc: 0.866132\n",
      "[73]\tvalid_0's auc: 0.866182\n",
      "[74]\tvalid_0's auc: 0.866215\n",
      "[75]\tvalid_0's auc: 0.866106\n",
      "[76]\tvalid_0's auc: 0.866282\n",
      "[77]\tvalid_0's auc: 0.866333\n",
      "[78]\tvalid_0's auc: 0.866237\n",
      "[79]\tvalid_0's auc: 0.8662\n",
      "[80]\tvalid_0's auc: 0.865974\n",
      "[81]\tvalid_0's auc: 0.865868\n",
      "[82]\tvalid_0's auc: 0.865817\n",
      "[83]\tvalid_0's auc: 0.865737\n",
      "[84]\tvalid_0's auc: 0.865714\n",
      "[85]\tvalid_0's auc: 0.865718\n",
      "[86]\tvalid_0's auc: 0.865769\n",
      "[87]\tvalid_0's auc: 0.865829\n",
      "[88]\tvalid_0's auc: 0.865763\n",
      "[89]\tvalid_0's auc: 0.865688\n",
      "[90]\tvalid_0's auc: 0.865803\n",
      "[91]\tvalid_0's auc: 0.865612\n",
      "[92]\tvalid_0's auc: 0.865675\n",
      "[93]\tvalid_0's auc: 0.865607\n",
      "[94]\tvalid_0's auc: 0.86545\n",
      "[95]\tvalid_0's auc: 0.865448\n",
      "[96]\tvalid_0's auc: 0.865556\n",
      "[97]\tvalid_0's auc: 0.865668\n",
      "[98]\tvalid_0's auc: 0.865874\n",
      "[99]\tvalid_0's auc: 0.865729\n",
      "[100]\tvalid_0's auc: 0.865726\n"
     ]
    }
   ],
   "source": [
    "dtrain = lgb.Dataset(X_train.drop(['comment_text','id'],1),y_train)\n",
    "dtest = lgb.Dataset(X_test.drop(['comment_text','id'],1),y_test)\n",
    "\n",
    "param_lgb = {\n",
    "    'max_depth': 5,\n",
    "    'learning_rate': 0.33,\n",
    "    'max_bin': 1000,\n",
    "    'num_leaves' : 100,\n",
    "    'objective': 'binary',\n",
    "    'metric': 'auc',\n",
    "    'num_iter': 1000\n",
    "    \n",
    "}\n",
    "\n",
    "\n",
    "lgb_model2 = lgb.train(param_lgb,dtrain,valid_sets=dtest)"
   ]
  },
  {
   "cell_type": "code",
   "execution_count": 65,
   "metadata": {},
   "outputs": [],
   "source": [
    "res2 = lgb_model2.predict(X_test.drop(['comment_text','id'],1))"
   ]
  },
  {
   "cell_type": "code",
   "execution_count": 67,
   "metadata": {},
   "outputs": [],
   "source": [
    "res1 = lgb_model.predict(test_vectors)"
   ]
  },
  {
   "cell_type": "code",
   "execution_count": 68,
   "metadata": {},
   "outputs": [],
   "source": [
    "final = (np.array(res1) + np.array(res2)) / 2"
   ]
  },
  {
   "cell_type": "code",
   "execution_count": 70,
   "metadata": {},
   "outputs": [],
   "source": [
    "pred = []\n",
    "for i in final:\n",
    "    pred.append(int(round(i)))"
   ]
  },
  {
   "cell_type": "code",
   "execution_count": 72,
   "metadata": {},
   "outputs": [
    {
     "data": {
      "text/plain": [
       "0.7998894641559168"
      ]
     },
     "execution_count": 72,
     "metadata": {},
     "output_type": "execute_result"
    }
   ],
   "source": [
    "from sklearn.metrics import roc_auc_score\n",
    "roc_auc_score(y_test,pred)"
   ]
  },
  {
   "cell_type": "code",
   "execution_count": null,
   "metadata": {},
   "outputs": [],
   "source": []
  }
 ],
 "metadata": {
  "kernelspec": {
   "display_name": "Python 3",
   "language": "python",
   "name": "python3"
  },
  "language_info": {
   "codemirror_mode": {
    "name": "ipython",
    "version": 3
   },
   "file_extension": ".py",
   "mimetype": "text/x-python",
   "name": "python",
   "nbconvert_exporter": "python",
   "pygments_lexer": "ipython3",
   "version": "3.6.8"
  }
 },
 "nbformat": 4,
 "nbformat_minor": 2
}
